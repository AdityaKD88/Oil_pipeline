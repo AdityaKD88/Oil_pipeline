{
 "cells": [
  {
   "cell_type": "code",
   "execution_count": 1,
   "metadata": {},
   "outputs": [],
   "source": [
    "import pandas as pd\n",
    "import numpy as np\n",
    "import matplotlib.pyplot as plt\n",
    "import plotly.express as px\n",
    "import plotly.offline as py\n",
    "import plotly.graph_objs as go\n",
    "import seaborn as sns"
   ]
  },
  {
   "cell_type": "code",
   "execution_count": 2,
   "metadata": {},
   "outputs": [],
   "source": [
    "df = pd.read_csv('../database.csv')"
   ]
  },
  {
   "cell_type": "code",
   "execution_count": 3,
   "metadata": {},
   "outputs": [
    {
     "data": {
      "text/html": [
       "<div>\n",
       "<style scoped>\n",
       "    .dataframe tbody tr th:only-of-type {\n",
       "        vertical-align: middle;\n",
       "    }\n",
       "\n",
       "    .dataframe tbody tr th {\n",
       "        vertical-align: top;\n",
       "    }\n",
       "\n",
       "    .dataframe thead th {\n",
       "        text-align: right;\n",
       "    }\n",
       "</style>\n",
       "<table border=\"1\" class=\"dataframe\">\n",
       "  <thead>\n",
       "    <tr style=\"text-align: right;\">\n",
       "      <th></th>\n",
       "      <th>Report Number</th>\n",
       "      <th>Supplemental Number</th>\n",
       "      <th>Accident Year</th>\n",
       "      <th>Accident Date/Time</th>\n",
       "      <th>Operator ID</th>\n",
       "      <th>Operator Name</th>\n",
       "      <th>Pipeline/Facility Name</th>\n",
       "      <th>Pipeline Location</th>\n",
       "      <th>Pipeline Type</th>\n",
       "      <th>Liquid Type</th>\n",
       "      <th>...</th>\n",
       "      <th>Other Fatalities</th>\n",
       "      <th>Public Fatalities</th>\n",
       "      <th>All Fatalities</th>\n",
       "      <th>Property Damage Costs</th>\n",
       "      <th>Lost Commodity Costs</th>\n",
       "      <th>Public/Private Property Damage Costs</th>\n",
       "      <th>Emergency Response Costs</th>\n",
       "      <th>Environmental Remediation Costs</th>\n",
       "      <th>Other Costs</th>\n",
       "      <th>All Costs</th>\n",
       "    </tr>\n",
       "  </thead>\n",
       "  <tbody>\n",
       "    <tr>\n",
       "      <th>0</th>\n",
       "      <td>20100016</td>\n",
       "      <td>17305</td>\n",
       "      <td>2010</td>\n",
       "      <td>1/1/2010 7:15 AM</td>\n",
       "      <td>32109</td>\n",
       "      <td>ONEOK NGL PIPELINE LP</td>\n",
       "      <td>KINDER MORGAN JCT</td>\n",
       "      <td>ONSHORE</td>\n",
       "      <td>ABOVEGROUND</td>\n",
       "      <td>HVL OR OTHER FLAMMABLE OR TOXIC FLUID, GAS</td>\n",
       "      <td>...</td>\n",
       "      <td>NaN</td>\n",
       "      <td>NaN</td>\n",
       "      <td>NaN</td>\n",
       "      <td>110.0</td>\n",
       "      <td>1517.0</td>\n",
       "      <td>0.0</td>\n",
       "      <td>0.0</td>\n",
       "      <td>0.0</td>\n",
       "      <td>0.0</td>\n",
       "      <td>1627</td>\n",
       "    </tr>\n",
       "    <tr>\n",
       "      <th>1</th>\n",
       "      <td>20100254</td>\n",
       "      <td>17331</td>\n",
       "      <td>2010</td>\n",
       "      <td>1/4/2010 8:30 AM</td>\n",
       "      <td>15786</td>\n",
       "      <td>PORTLAND PIPELINE CORP</td>\n",
       "      <td>24-INCH MAIN LINE</td>\n",
       "      <td>ONSHORE</td>\n",
       "      <td>ABOVEGROUND</td>\n",
       "      <td>CRUDE OIL</td>\n",
       "      <td>...</td>\n",
       "      <td>NaN</td>\n",
       "      <td>NaN</td>\n",
       "      <td>NaN</td>\n",
       "      <td>4000.0</td>\n",
       "      <td>8.0</td>\n",
       "      <td>0.0</td>\n",
       "      <td>0.0</td>\n",
       "      <td>0.0</td>\n",
       "      <td>0.0</td>\n",
       "      <td>4008</td>\n",
       "    </tr>\n",
       "    <tr>\n",
       "      <th>2</th>\n",
       "      <td>20100038</td>\n",
       "      <td>17747</td>\n",
       "      <td>2010</td>\n",
       "      <td>1/5/2010 10:30 AM</td>\n",
       "      <td>20160</td>\n",
       "      <td>PETROLOGISTICS OLEFINS, LLC</td>\n",
       "      <td>NaN</td>\n",
       "      <td>ONSHORE</td>\n",
       "      <td>ABOVEGROUND</td>\n",
       "      <td>HVL OR OTHER FLAMMABLE OR TOXIC FLUID, GAS</td>\n",
       "      <td>...</td>\n",
       "      <td>NaN</td>\n",
       "      <td>NaN</td>\n",
       "      <td>NaN</td>\n",
       "      <td>0.0</td>\n",
       "      <td>200.0</td>\n",
       "      <td>0.0</td>\n",
       "      <td>0.0</td>\n",
       "      <td>0.0</td>\n",
       "      <td>0.0</td>\n",
       "      <td>200</td>\n",
       "    </tr>\n",
       "    <tr>\n",
       "      <th>3</th>\n",
       "      <td>20100260</td>\n",
       "      <td>18574</td>\n",
       "      <td>2010</td>\n",
       "      <td>1/6/2010 7:30 PM</td>\n",
       "      <td>11169</td>\n",
       "      <td>ENBRIDGE ENERGY, LIMITED PARTNERSHIP</td>\n",
       "      <td>SUPERIOR TERMINAL</td>\n",
       "      <td>ONSHORE</td>\n",
       "      <td>UNDERGROUND</td>\n",
       "      <td>CRUDE OIL</td>\n",
       "      <td>...</td>\n",
       "      <td>NaN</td>\n",
       "      <td>NaN</td>\n",
       "      <td>NaN</td>\n",
       "      <td>200.0</td>\n",
       "      <td>40.0</td>\n",
       "      <td>0.0</td>\n",
       "      <td>11300.0</td>\n",
       "      <td>0.0</td>\n",
       "      <td>0.0</td>\n",
       "      <td>11540</td>\n",
       "    </tr>\n",
       "    <tr>\n",
       "      <th>4</th>\n",
       "      <td>20100030</td>\n",
       "      <td>16276</td>\n",
       "      <td>2010</td>\n",
       "      <td>1/7/2010 1:00 PM</td>\n",
       "      <td>300</td>\n",
       "      <td>PLAINS PIPELINE, L.P.</td>\n",
       "      <td>RED RIVER EAST</td>\n",
       "      <td>ONSHORE</td>\n",
       "      <td>UNDERGROUND</td>\n",
       "      <td>CRUDE OIL</td>\n",
       "      <td>...</td>\n",
       "      <td>NaN</td>\n",
       "      <td>NaN</td>\n",
       "      <td>NaN</td>\n",
       "      <td>20000.0</td>\n",
       "      <td>150.0</td>\n",
       "      <td>0.0</td>\n",
       "      <td>7500.0</td>\n",
       "      <td>2000.0</td>\n",
       "      <td>0.0</td>\n",
       "      <td>29650</td>\n",
       "    </tr>\n",
       "  </tbody>\n",
       "</table>\n",
       "<p>5 rows × 48 columns</p>\n",
       "</div>"
      ],
      "text/plain": [
       "   Report Number  Supplemental Number  Accident Year Accident Date/Time  \\\n",
       "0       20100016                17305           2010   1/1/2010 7:15 AM   \n",
       "1       20100254                17331           2010   1/4/2010 8:30 AM   \n",
       "2       20100038                17747           2010  1/5/2010 10:30 AM   \n",
       "3       20100260                18574           2010   1/6/2010 7:30 PM   \n",
       "4       20100030                16276           2010   1/7/2010 1:00 PM   \n",
       "\n",
       "   Operator ID                         Operator Name Pipeline/Facility Name  \\\n",
       "0        32109                 ONEOK NGL PIPELINE LP      KINDER MORGAN JCT   \n",
       "1        15786                PORTLAND PIPELINE CORP      24-INCH MAIN LINE   \n",
       "2        20160           PETROLOGISTICS OLEFINS, LLC                    NaN   \n",
       "3        11169  ENBRIDGE ENERGY, LIMITED PARTNERSHIP      SUPERIOR TERMINAL   \n",
       "4          300                 PLAINS PIPELINE, L.P.         RED RIVER EAST   \n",
       "\n",
       "  Pipeline Location Pipeline Type                                 Liquid Type  \\\n",
       "0           ONSHORE   ABOVEGROUND  HVL OR OTHER FLAMMABLE OR TOXIC FLUID, GAS   \n",
       "1           ONSHORE   ABOVEGROUND                                   CRUDE OIL   \n",
       "2           ONSHORE   ABOVEGROUND  HVL OR OTHER FLAMMABLE OR TOXIC FLUID, GAS   \n",
       "3           ONSHORE   UNDERGROUND                                   CRUDE OIL   \n",
       "4           ONSHORE   UNDERGROUND                                   CRUDE OIL   \n",
       "\n",
       "   ... Other Fatalities Public Fatalities All Fatalities  \\\n",
       "0  ...              NaN               NaN            NaN   \n",
       "1  ...              NaN               NaN            NaN   \n",
       "2  ...              NaN               NaN            NaN   \n",
       "3  ...              NaN               NaN            NaN   \n",
       "4  ...              NaN               NaN            NaN   \n",
       "\n",
       "  Property Damage Costs Lost Commodity Costs  \\\n",
       "0                 110.0               1517.0   \n",
       "1                4000.0                  8.0   \n",
       "2                   0.0                200.0   \n",
       "3                 200.0                 40.0   \n",
       "4               20000.0                150.0   \n",
       "\n",
       "   Public/Private Property Damage Costs  Emergency Response Costs  \\\n",
       "0                                   0.0                       0.0   \n",
       "1                                   0.0                       0.0   \n",
       "2                                   0.0                       0.0   \n",
       "3                                   0.0                   11300.0   \n",
       "4                                   0.0                    7500.0   \n",
       "\n",
       "  Environmental Remediation Costs Other Costs  All Costs  \n",
       "0                             0.0         0.0       1627  \n",
       "1                             0.0         0.0       4008  \n",
       "2                             0.0         0.0        200  \n",
       "3                             0.0         0.0      11540  \n",
       "4                          2000.0         0.0      29650  \n",
       "\n",
       "[5 rows x 48 columns]"
      ]
     },
     "execution_count": 3,
     "metadata": {},
     "output_type": "execute_result"
    }
   ],
   "source": [
    "df.head()"
   ]
  },
  {
   "cell_type": "code",
   "execution_count": 4,
   "metadata": {},
   "outputs": [
    {
     "data": {
      "text/plain": [
       "(2795, 48)"
      ]
     },
     "execution_count": 4,
     "metadata": {},
     "output_type": "execute_result"
    }
   ],
   "source": [
    "df.shape"
   ]
  },
  {
   "cell_type": "code",
   "execution_count": 5,
   "metadata": {},
   "outputs": [
    {
     "data": {
      "text/plain": [
       "Index(['Report Number', 'Supplemental Number', 'Accident Year',\n",
       "       'Accident Date/Time', 'Operator ID', 'Operator Name',\n",
       "       'Pipeline/Facility Name', 'Pipeline Location', 'Pipeline Type',\n",
       "       'Liquid Type', 'Liquid Subtype', 'Liquid Name', 'Accident City',\n",
       "       'Accident County', 'Accident State', 'Accident Latitude',\n",
       "       'Accident Longitude', 'Cause Category', 'Cause Subcategory',\n",
       "       'Unintentional Release (Barrels)', 'Intentional Release (Barrels)',\n",
       "       'Liquid Recovery (Barrels)', 'Net Loss (Barrels)', 'Liquid Ignition',\n",
       "       'Liquid Explosion', 'Pipeline Shutdown', 'Shutdown Date/Time',\n",
       "       'Restart Date/Time', 'Public Evacuations', 'Operator Employee Injuries',\n",
       "       'Operator Contractor Injuries', 'Emergency Responder Injuries',\n",
       "       'Other Injuries', 'Public Injuries', 'All Injuries',\n",
       "       'Operator Employee Fatalities', 'Operator Contractor Fatalities',\n",
       "       'Emergency Responder Fatalities', 'Other Fatalities',\n",
       "       'Public Fatalities', 'All Fatalities', 'Property Damage Costs',\n",
       "       'Lost Commodity Costs', 'Public/Private Property Damage Costs',\n",
       "       'Emergency Response Costs', 'Environmental Remediation Costs',\n",
       "       'Other Costs', 'All Costs'],\n",
       "      dtype='object')"
      ]
     },
     "execution_count": 5,
     "metadata": {},
     "output_type": "execute_result"
    }
   ],
   "source": [
    "df.columns"
   ]
  },
  {
   "cell_type": "code",
   "execution_count": 6,
   "metadata": {},
   "outputs": [
    {
     "data": {
      "text/plain": [
       "Report Number                           2795\n",
       "Supplemental Number                     2795\n",
       "Accident Year                              8\n",
       "Accident Date/Time                      2777\n",
       "Operator ID                              213\n",
       "Operator Name                            229\n",
       "Pipeline/Facility Name                  1977\n",
       "Pipeline Location                          2\n",
       "Pipeline Type                              4\n",
       "Liquid Type                                5\n",
       "Liquid Subtype                             8\n",
       "Liquid Name                               69\n",
       "Accident City                           1027\n",
       "Accident County                          678\n",
       "Accident State                            46\n",
       "Accident Latitude                       2552\n",
       "Accident Longitude                      2557\n",
       "Cause Category                             7\n",
       "Cause Subcategory                         38\n",
       "Unintentional Release (Barrels)          697\n",
       "Intentional Release (Barrels)            117\n",
       "Liquid Recovery (Barrels)                539\n",
       "Net Loss (Barrels)                       443\n",
       "Liquid Ignition                            2\n",
       "Liquid Explosion                           2\n",
       "Pipeline Shutdown                          2\n",
       "Shutdown Date/Time                      1385\n",
       "Restart Date/Time                       1334\n",
       "Public Evacuations                        35\n",
       "Operator Employee Injuries                 2\n",
       "Operator Contractor Injuries               5\n",
       "Emergency Responder Injuries               1\n",
       "Other Injuries                             1\n",
       "Public Injuries                            3\n",
       "All Injuries                               4\n",
       "Operator Employee Fatalities               1\n",
       "Operator Contractor Fatalities             3\n",
       "Emergency Responder Fatalities             1\n",
       "Other Fatalities                           2\n",
       "Public Fatalities                          3\n",
       "All Fatalities                             2\n",
       "Property Damage Costs                    768\n",
       "Lost Commodity Costs                     748\n",
       "Public/Private Property Damage Costs     110\n",
       "Emergency Response Costs                 712\n",
       "Environmental Remediation Costs          628\n",
       "Other Costs                              175\n",
       "All Costs                               2279\n",
       "dtype: int64"
      ]
     },
     "execution_count": 6,
     "metadata": {},
     "output_type": "execute_result"
    }
   ],
   "source": [
    "df.nunique()"
   ]
  },
  {
   "cell_type": "code",
   "execution_count": 7,
   "metadata": {},
   "outputs": [
    {
     "name": "stdout",
     "output_type": "stream",
     "text": [
      "<class 'pandas.core.frame.DataFrame'>\n",
      "RangeIndex: 2795 entries, 0 to 2794\n",
      "Data columns (total 48 columns):\n",
      " #   Column                                Non-Null Count  Dtype  \n",
      "---  ------                                --------------  -----  \n",
      " 0   Report Number                         2795 non-null   int64  \n",
      " 1   Supplemental Number                   2795 non-null   int64  \n",
      " 2   Accident Year                         2795 non-null   int64  \n",
      " 3   Accident Date/Time                    2795 non-null   object \n",
      " 4   Operator ID                           2795 non-null   int64  \n",
      " 5   Operator Name                         2795 non-null   object \n",
      " 6   Pipeline/Facility Name                2674 non-null   object \n",
      " 7   Pipeline Location                     2795 non-null   object \n",
      " 8   Pipeline Type                         2777 non-null   object \n",
      " 9   Liquid Type                           2795 non-null   object \n",
      " 10  Liquid Subtype                        1349 non-null   object \n",
      " 11  Liquid Name                           222 non-null    object \n",
      " 12  Accident City                         2480 non-null   object \n",
      " 13  Accident County                       2720 non-null   object \n",
      " 14  Accident State                        2783 non-null   object \n",
      " 15  Accident Latitude                     2795 non-null   float64\n",
      " 16  Accident Longitude                    2795 non-null   float64\n",
      " 17  Cause Category                        2795 non-null   object \n",
      " 18  Cause Subcategory                     2795 non-null   object \n",
      " 19  Unintentional Release (Barrels)       2795 non-null   float64\n",
      " 20  Intentional Release (Barrels)         1209 non-null   float64\n",
      " 21  Liquid Recovery (Barrels)             2795 non-null   float64\n",
      " 22  Net Loss (Barrels)                    2795 non-null   float64\n",
      " 23  Liquid Ignition                       2795 non-null   object \n",
      " 24  Liquid Explosion                      2795 non-null   object \n",
      " 25  Pipeline Shutdown                     2583 non-null   object \n",
      " 26  Shutdown Date/Time                    1390 non-null   object \n",
      " 27  Restart Date/Time                     1341 non-null   object \n",
      " 28  Public Evacuations                    2338 non-null   float64\n",
      " 29  Operator Employee Injuries            12 non-null     float64\n",
      " 30  Operator Contractor Injuries          12 non-null     float64\n",
      " 31  Emergency Responder Injuries          12 non-null     float64\n",
      " 32  Other Injuries                        12 non-null     float64\n",
      " 33  Public Injuries                       12 non-null     float64\n",
      " 34  All Injuries                          12 non-null     float64\n",
      " 35  Operator Employee Fatalities          8 non-null      float64\n",
      " 36  Operator Contractor Fatalities        8 non-null      float64\n",
      " 37  Emergency Responder Fatalities        8 non-null      float64\n",
      " 38  Other Fatalities                      8 non-null      float64\n",
      " 39  Public Fatalities                     8 non-null      float64\n",
      " 40  All Fatalities                        8 non-null      float64\n",
      " 41  Property Damage Costs                 2788 non-null   float64\n",
      " 42  Lost Commodity Costs                  2791 non-null   float64\n",
      " 43  Public/Private Property Damage Costs  2785 non-null   float64\n",
      " 44  Emergency Response Costs              2789 non-null   float64\n",
      " 45  Environmental Remediation Costs       2787 non-null   float64\n",
      " 46  Other Costs                           2779 non-null   float64\n",
      " 47  All Costs                             2795 non-null   int64  \n",
      "dtypes: float64(25), int64(5), object(18)\n",
      "memory usage: 1.0+ MB\n"
     ]
    }
   ],
   "source": [
    "df.info()"
   ]
  },
  {
   "cell_type": "code",
   "execution_count": 8,
   "metadata": {},
   "outputs": [],
   "source": [
    "df.drop(columns=['Report Number','Supplemental Number','Operator ID','All Injuries'],inplace=True)"
   ]
  },
  {
   "cell_type": "code",
   "execution_count": 9,
   "metadata": {},
   "outputs": [
    {
     "data": {
      "text/plain": [
       "(2795, 44)"
      ]
     },
     "execution_count": 9,
     "metadata": {},
     "output_type": "execute_result"
    }
   ],
   "source": [
    "df.shape"
   ]
  },
  {
   "cell_type": "code",
   "execution_count": 10,
   "metadata": {},
   "outputs": [
    {
     "data": {
      "text/plain": [
       "Index(['Accident Year', 'Accident Date/Time', 'Operator Name',\n",
       "       'Pipeline/Facility Name', 'Pipeline Location', 'Pipeline Type',\n",
       "       'Liquid Type', 'Liquid Subtype', 'Liquid Name', 'Accident City',\n",
       "       'Accident County', 'Accident State', 'Accident Latitude',\n",
       "       'Accident Longitude', 'Cause Category', 'Cause Subcategory',\n",
       "       'Unintentional Release (Barrels)', 'Intentional Release (Barrels)',\n",
       "       'Liquid Recovery (Barrels)', 'Net Loss (Barrels)', 'Liquid Ignition',\n",
       "       'Liquid Explosion', 'Pipeline Shutdown', 'Shutdown Date/Time',\n",
       "       'Restart Date/Time', 'Public Evacuations', 'Operator Employee Injuries',\n",
       "       'Operator Contractor Injuries', 'Emergency Responder Injuries',\n",
       "       'Other Injuries', 'Public Injuries', 'Operator Employee Fatalities',\n",
       "       'Operator Contractor Fatalities', 'Emergency Responder Fatalities',\n",
       "       'Other Fatalities', 'Public Fatalities', 'All Fatalities',\n",
       "       'Property Damage Costs', 'Lost Commodity Costs',\n",
       "       'Public/Private Property Damage Costs', 'Emergency Response Costs',\n",
       "       'Environmental Remediation Costs', 'Other Costs', 'All Costs'],\n",
       "      dtype='object')"
      ]
     },
     "execution_count": 10,
     "metadata": {},
     "output_type": "execute_result"
    }
   ],
   "source": [
    "df.columns"
   ]
  },
  {
   "cell_type": "code",
   "execution_count": 11,
   "metadata": {},
   "outputs": [
    {
     "data": {
      "text/plain": [
       "Accident Year                             int64\n",
       "Accident Date/Time                       object\n",
       "Operator Name                            object\n",
       "Pipeline/Facility Name                   object\n",
       "Pipeline Location                        object\n",
       "Pipeline Type                            object\n",
       "Liquid Type                              object\n",
       "Liquid Subtype                           object\n",
       "Liquid Name                              object\n",
       "Accident City                            object\n",
       "Accident County                          object\n",
       "Accident State                           object\n",
       "Accident Latitude                       float64\n",
       "Accident Longitude                      float64\n",
       "Cause Category                           object\n",
       "Cause Subcategory                        object\n",
       "Unintentional Release (Barrels)         float64\n",
       "Intentional Release (Barrels)           float64\n",
       "Liquid Recovery (Barrels)               float64\n",
       "Net Loss (Barrels)                      float64\n",
       "Liquid Ignition                          object\n",
       "Liquid Explosion                         object\n",
       "Pipeline Shutdown                        object\n",
       "Shutdown Date/Time                       object\n",
       "Restart Date/Time                        object\n",
       "Public Evacuations                      float64\n",
       "Operator Employee Injuries              float64\n",
       "Operator Contractor Injuries            float64\n",
       "Emergency Responder Injuries            float64\n",
       "Other Injuries                          float64\n",
       "Public Injuries                         float64\n",
       "Operator Employee Fatalities            float64\n",
       "Operator Contractor Fatalities          float64\n",
       "Emergency Responder Fatalities          float64\n",
       "Other Fatalities                        float64\n",
       "Public Fatalities                       float64\n",
       "All Fatalities                          float64\n",
       "Property Damage Costs                   float64\n",
       "Lost Commodity Costs                    float64\n",
       "Public/Private Property Damage Costs    float64\n",
       "Emergency Response Costs                float64\n",
       "Environmental Remediation Costs         float64\n",
       "Other Costs                             float64\n",
       "All Costs                                 int64\n",
       "dtype: object"
      ]
     },
     "execution_count": 11,
     "metadata": {},
     "output_type": "execute_result"
    }
   ],
   "source": [
    "df.dtypes"
   ]
  },
  {
   "cell_type": "code",
   "execution_count": 12,
   "metadata": {},
   "outputs": [
    {
     "data": {
      "text/plain": [
       "array(['INCORRECT OPERATION', 'MATERIAL/WELD/EQUIP FAILURE',\n",
       "       'NATURAL FORCE DAMAGE', 'EXCAVATION DAMAGE', 'ALL OTHER CAUSES',\n",
       "       'CORROSION', 'OTHER OUTSIDE FORCE DAMAGE'], dtype=object)"
      ]
     },
     "execution_count": 12,
     "metadata": {},
     "output_type": "execute_result"
    }
   ],
   "source": [
    "df['Cause Category'].unique()"
   ]
  },
  {
   "cell_type": "code",
   "execution_count": 13,
   "metadata": {},
   "outputs": [
    {
     "name": "stderr",
     "output_type": "stream",
     "text": [
      "C:\\Users\\Dell\\AppData\\Roaming\\Python\\Python39\\site-packages\\plotly\\graph_objs\\_deprecations.py:405: DeprecationWarning:\n",
      "\n",
      "plotly.graph_objs.Margin is deprecated.\n",
      "Please replace it with one of the following more specific types\n",
      "  - plotly.graph_objs.layout.Margin\n",
      "\n",
      "\n"
     ]
    },
    {
     "data": {
      "application/vnd.plotly.v1+json": {
       "config": {
        "linkText": "Export to plot.ly",
        "plotlyServerURL": "https://plot.ly",
        "showLink": false
       },
       "data": [
        {
         "marker": {
          "color": [
           1435,
           592,
           378,
           118,
           118,
           97,
           57
          ],
          "colorscale": [
           [
            0,
            "#440154"
           ],
           [
            0.1111111111111111,
            "#482878"
           ],
           [
            0.2222222222222222,
            "#3e4989"
           ],
           [
            0.3333333333333333,
            "#31688e"
           ],
           [
            0.4444444444444444,
            "#26828e"
           ],
           [
            0.5555555555555556,
            "#1f9e89"
           ],
           [
            0.6666666666666666,
            "#35b779"
           ],
           [
            0.7777777777777778,
            "#6ece58"
           ],
           [
            0.8888888888888888,
            "#b5de2b"
           ],
           [
            1,
            "#fde725"
           ]
          ],
          "reversescale": true
         },
         "name": "Causes Category Count",
         "type": "bar",
         "x": [
          "MATERIAL/WELD/EQUIP FAILURE",
          "CORROSION",
          "INCORRECT OPERATION",
          "NATURAL FORCE DAMAGE",
          "ALL OTHER CAUSES",
          "EXCAVATION DAMAGE",
          "OTHER OUTSIDE FORCE DAMAGE"
         ],
         "y": [
          1435,
          592,
          378,
          118,
          118,
          97,
          57
         ]
        }
       ],
       "layout": {
        "margin": {
         "b": 140,
         "r": 150
        },
        "template": {
         "data": {
          "bar": [
           {
            "error_x": {
             "color": "#2a3f5f"
            },
            "error_y": {
             "color": "#2a3f5f"
            },
            "marker": {
             "line": {
              "color": "#E5ECF6",
              "width": 0.5
             },
             "pattern": {
              "fillmode": "overlay",
              "size": 10,
              "solidity": 0.2
             }
            },
            "type": "bar"
           }
          ],
          "barpolar": [
           {
            "marker": {
             "line": {
              "color": "#E5ECF6",
              "width": 0.5
             },
             "pattern": {
              "fillmode": "overlay",
              "size": 10,
              "solidity": 0.2
             }
            },
            "type": "barpolar"
           }
          ],
          "carpet": [
           {
            "aaxis": {
             "endlinecolor": "#2a3f5f",
             "gridcolor": "white",
             "linecolor": "white",
             "minorgridcolor": "white",
             "startlinecolor": "#2a3f5f"
            },
            "baxis": {
             "endlinecolor": "#2a3f5f",
             "gridcolor": "white",
             "linecolor": "white",
             "minorgridcolor": "white",
             "startlinecolor": "#2a3f5f"
            },
            "type": "carpet"
           }
          ],
          "choropleth": [
           {
            "colorbar": {
             "outlinewidth": 0,
             "ticks": ""
            },
            "type": "choropleth"
           }
          ],
          "contour": [
           {
            "colorbar": {
             "outlinewidth": 0,
             "ticks": ""
            },
            "colorscale": [
             [
              0,
              "#0d0887"
             ],
             [
              0.1111111111111111,
              "#46039f"
             ],
             [
              0.2222222222222222,
              "#7201a8"
             ],
             [
              0.3333333333333333,
              "#9c179e"
             ],
             [
              0.4444444444444444,
              "#bd3786"
             ],
             [
              0.5555555555555556,
              "#d8576b"
             ],
             [
              0.6666666666666666,
              "#ed7953"
             ],
             [
              0.7777777777777778,
              "#fb9f3a"
             ],
             [
              0.8888888888888888,
              "#fdca26"
             ],
             [
              1,
              "#f0f921"
             ]
            ],
            "type": "contour"
           }
          ],
          "contourcarpet": [
           {
            "colorbar": {
             "outlinewidth": 0,
             "ticks": ""
            },
            "type": "contourcarpet"
           }
          ],
          "heatmap": [
           {
            "colorbar": {
             "outlinewidth": 0,
             "ticks": ""
            },
            "colorscale": [
             [
              0,
              "#0d0887"
             ],
             [
              0.1111111111111111,
              "#46039f"
             ],
             [
              0.2222222222222222,
              "#7201a8"
             ],
             [
              0.3333333333333333,
              "#9c179e"
             ],
             [
              0.4444444444444444,
              "#bd3786"
             ],
             [
              0.5555555555555556,
              "#d8576b"
             ],
             [
              0.6666666666666666,
              "#ed7953"
             ],
             [
              0.7777777777777778,
              "#fb9f3a"
             ],
             [
              0.8888888888888888,
              "#fdca26"
             ],
             [
              1,
              "#f0f921"
             ]
            ],
            "type": "heatmap"
           }
          ],
          "heatmapgl": [
           {
            "colorbar": {
             "outlinewidth": 0,
             "ticks": ""
            },
            "colorscale": [
             [
              0,
              "#0d0887"
             ],
             [
              0.1111111111111111,
              "#46039f"
             ],
             [
              0.2222222222222222,
              "#7201a8"
             ],
             [
              0.3333333333333333,
              "#9c179e"
             ],
             [
              0.4444444444444444,
              "#bd3786"
             ],
             [
              0.5555555555555556,
              "#d8576b"
             ],
             [
              0.6666666666666666,
              "#ed7953"
             ],
             [
              0.7777777777777778,
              "#fb9f3a"
             ],
             [
              0.8888888888888888,
              "#fdca26"
             ],
             [
              1,
              "#f0f921"
             ]
            ],
            "type": "heatmapgl"
           }
          ],
          "histogram": [
           {
            "marker": {
             "pattern": {
              "fillmode": "overlay",
              "size": 10,
              "solidity": 0.2
             }
            },
            "type": "histogram"
           }
          ],
          "histogram2d": [
           {
            "colorbar": {
             "outlinewidth": 0,
             "ticks": ""
            },
            "colorscale": [
             [
              0,
              "#0d0887"
             ],
             [
              0.1111111111111111,
              "#46039f"
             ],
             [
              0.2222222222222222,
              "#7201a8"
             ],
             [
              0.3333333333333333,
              "#9c179e"
             ],
             [
              0.4444444444444444,
              "#bd3786"
             ],
             [
              0.5555555555555556,
              "#d8576b"
             ],
             [
              0.6666666666666666,
              "#ed7953"
             ],
             [
              0.7777777777777778,
              "#fb9f3a"
             ],
             [
              0.8888888888888888,
              "#fdca26"
             ],
             [
              1,
              "#f0f921"
             ]
            ],
            "type": "histogram2d"
           }
          ],
          "histogram2dcontour": [
           {
            "colorbar": {
             "outlinewidth": 0,
             "ticks": ""
            },
            "colorscale": [
             [
              0,
              "#0d0887"
             ],
             [
              0.1111111111111111,
              "#46039f"
             ],
             [
              0.2222222222222222,
              "#7201a8"
             ],
             [
              0.3333333333333333,
              "#9c179e"
             ],
             [
              0.4444444444444444,
              "#bd3786"
             ],
             [
              0.5555555555555556,
              "#d8576b"
             ],
             [
              0.6666666666666666,
              "#ed7953"
             ],
             [
              0.7777777777777778,
              "#fb9f3a"
             ],
             [
              0.8888888888888888,
              "#fdca26"
             ],
             [
              1,
              "#f0f921"
             ]
            ],
            "type": "histogram2dcontour"
           }
          ],
          "mesh3d": [
           {
            "colorbar": {
             "outlinewidth": 0,
             "ticks": ""
            },
            "type": "mesh3d"
           }
          ],
          "parcoords": [
           {
            "line": {
             "colorbar": {
              "outlinewidth": 0,
              "ticks": ""
             }
            },
            "type": "parcoords"
           }
          ],
          "pie": [
           {
            "automargin": true,
            "type": "pie"
           }
          ],
          "scatter": [
           {
            "marker": {
             "colorbar": {
              "outlinewidth": 0,
              "ticks": ""
             }
            },
            "type": "scatter"
           }
          ],
          "scatter3d": [
           {
            "line": {
             "colorbar": {
              "outlinewidth": 0,
              "ticks": ""
             }
            },
            "marker": {
             "colorbar": {
              "outlinewidth": 0,
              "ticks": ""
             }
            },
            "type": "scatter3d"
           }
          ],
          "scattercarpet": [
           {
            "marker": {
             "colorbar": {
              "outlinewidth": 0,
              "ticks": ""
             }
            },
            "type": "scattercarpet"
           }
          ],
          "scattergeo": [
           {
            "marker": {
             "colorbar": {
              "outlinewidth": 0,
              "ticks": ""
             }
            },
            "type": "scattergeo"
           }
          ],
          "scattergl": [
           {
            "marker": {
             "colorbar": {
              "outlinewidth": 0,
              "ticks": ""
             }
            },
            "type": "scattergl"
           }
          ],
          "scattermapbox": [
           {
            "marker": {
             "colorbar": {
              "outlinewidth": 0,
              "ticks": ""
             }
            },
            "type": "scattermapbox"
           }
          ],
          "scatterpolar": [
           {
            "marker": {
             "colorbar": {
              "outlinewidth": 0,
              "ticks": ""
             }
            },
            "type": "scatterpolar"
           }
          ],
          "scatterpolargl": [
           {
            "marker": {
             "colorbar": {
              "outlinewidth": 0,
              "ticks": ""
             }
            },
            "type": "scatterpolargl"
           }
          ],
          "scatterternary": [
           {
            "marker": {
             "colorbar": {
              "outlinewidth": 0,
              "ticks": ""
             }
            },
            "type": "scatterternary"
           }
          ],
          "surface": [
           {
            "colorbar": {
             "outlinewidth": 0,
             "ticks": ""
            },
            "colorscale": [
             [
              0,
              "#0d0887"
             ],
             [
              0.1111111111111111,
              "#46039f"
             ],
             [
              0.2222222222222222,
              "#7201a8"
             ],
             [
              0.3333333333333333,
              "#9c179e"
             ],
             [
              0.4444444444444444,
              "#bd3786"
             ],
             [
              0.5555555555555556,
              "#d8576b"
             ],
             [
              0.6666666666666666,
              "#ed7953"
             ],
             [
              0.7777777777777778,
              "#fb9f3a"
             ],
             [
              0.8888888888888888,
              "#fdca26"
             ],
             [
              1,
              "#f0f921"
             ]
            ],
            "type": "surface"
           }
          ],
          "table": [
           {
            "cells": {
             "fill": {
              "color": "#EBF0F8"
             },
             "line": {
              "color": "white"
             }
            },
            "header": {
             "fill": {
              "color": "#C8D4E3"
             },
             "line": {
              "color": "white"
             }
            },
            "type": "table"
           }
          ]
         },
         "layout": {
          "annotationdefaults": {
           "arrowcolor": "#2a3f5f",
           "arrowhead": 0,
           "arrowwidth": 1
          },
          "autotypenumbers": "strict",
          "coloraxis": {
           "colorbar": {
            "outlinewidth": 0,
            "ticks": ""
           }
          },
          "colorscale": {
           "diverging": [
            [
             0,
             "#8e0152"
            ],
            [
             0.1,
             "#c51b7d"
            ],
            [
             0.2,
             "#de77ae"
            ],
            [
             0.3,
             "#f1b6da"
            ],
            [
             0.4,
             "#fde0ef"
            ],
            [
             0.5,
             "#f7f7f7"
            ],
            [
             0.6,
             "#e6f5d0"
            ],
            [
             0.7,
             "#b8e186"
            ],
            [
             0.8,
             "#7fbc41"
            ],
            [
             0.9,
             "#4d9221"
            ],
            [
             1,
             "#276419"
            ]
           ],
           "sequential": [
            [
             0,
             "#0d0887"
            ],
            [
             0.1111111111111111,
             "#46039f"
            ],
            [
             0.2222222222222222,
             "#7201a8"
            ],
            [
             0.3333333333333333,
             "#9c179e"
            ],
            [
             0.4444444444444444,
             "#bd3786"
            ],
            [
             0.5555555555555556,
             "#d8576b"
            ],
            [
             0.6666666666666666,
             "#ed7953"
            ],
            [
             0.7777777777777778,
             "#fb9f3a"
            ],
            [
             0.8888888888888888,
             "#fdca26"
            ],
            [
             1,
             "#f0f921"
            ]
           ],
           "sequentialminus": [
            [
             0,
             "#0d0887"
            ],
            [
             0.1111111111111111,
             "#46039f"
            ],
            [
             0.2222222222222222,
             "#7201a8"
            ],
            [
             0.3333333333333333,
             "#9c179e"
            ],
            [
             0.4444444444444444,
             "#bd3786"
            ],
            [
             0.5555555555555556,
             "#d8576b"
            ],
            [
             0.6666666666666666,
             "#ed7953"
            ],
            [
             0.7777777777777778,
             "#fb9f3a"
            ],
            [
             0.8888888888888888,
             "#fdca26"
            ],
            [
             1,
             "#f0f921"
            ]
           ]
          },
          "colorway": [
           "#636efa",
           "#EF553B",
           "#00cc96",
           "#ab63fa",
           "#FFA15A",
           "#19d3f3",
           "#FF6692",
           "#B6E880",
           "#FF97FF",
           "#FECB52"
          ],
          "font": {
           "color": "#2a3f5f"
          },
          "geo": {
           "bgcolor": "white",
           "lakecolor": "white",
           "landcolor": "#E5ECF6",
           "showlakes": true,
           "showland": true,
           "subunitcolor": "white"
          },
          "hoverlabel": {
           "align": "left"
          },
          "hovermode": "closest",
          "mapbox": {
           "style": "light"
          },
          "paper_bgcolor": "white",
          "plot_bgcolor": "#E5ECF6",
          "polar": {
           "angularaxis": {
            "gridcolor": "white",
            "linecolor": "white",
            "ticks": ""
           },
           "bgcolor": "#E5ECF6",
           "radialaxis": {
            "gridcolor": "white",
            "linecolor": "white",
            "ticks": ""
           }
          },
          "scene": {
           "xaxis": {
            "backgroundcolor": "#E5ECF6",
            "gridcolor": "white",
            "gridwidth": 2,
            "linecolor": "white",
            "showbackground": true,
            "ticks": "",
            "zerolinecolor": "white"
           },
           "yaxis": {
            "backgroundcolor": "#E5ECF6",
            "gridcolor": "white",
            "gridwidth": 2,
            "linecolor": "white",
            "showbackground": true,
            "ticks": "",
            "zerolinecolor": "white"
           },
           "zaxis": {
            "backgroundcolor": "#E5ECF6",
            "gridcolor": "white",
            "gridwidth": 2,
            "linecolor": "white",
            "showbackground": true,
            "ticks": "",
            "zerolinecolor": "white"
           }
          },
          "shapedefaults": {
           "line": {
            "color": "#2a3f5f"
           }
          },
          "ternary": {
           "aaxis": {
            "gridcolor": "white",
            "linecolor": "white",
            "ticks": ""
           },
           "baxis": {
            "gridcolor": "white",
            "linecolor": "white",
            "ticks": ""
           },
           "bgcolor": "#E5ECF6",
           "caxis": {
            "gridcolor": "white",
            "linecolor": "white",
            "ticks": ""
           }
          },
          "title": {
           "x": 0.05
          },
          "xaxis": {
           "automargin": true,
           "gridcolor": "white",
           "linecolor": "white",
           "ticks": "",
           "title": {
            "standoff": 15
           },
           "zerolinecolor": "white",
           "zerolinewidth": 2
          },
          "yaxis": {
           "automargin": true,
           "gridcolor": "white",
           "linecolor": "white",
           "ticks": "",
           "title": {
            "standoff": 15
           },
           "zerolinecolor": "white",
           "zerolinewidth": 2
          }
         }
        },
        "title": {
         "text": "Cause category"
        },
        "width": 700
       }
      }
     },
     "metadata": {},
     "output_type": "display_data"
    }
   ],
   "source": [
    "causes = df['Cause Category'].value_counts()\n",
    "causes = go.Bar(\n",
    "   y = causes.values, \n",
    "   x = causes.index.values, \n",
    "   name = 'Causes Category Count', \n",
    "     marker=dict(\n",
    "        color=causes.values,\n",
    "        colorscale = 'Viridis',\n",
    "        reversescale = True\n",
    "        )\n",
    ")\n",
    "\n",
    "data = [causes]\n",
    "\n",
    "layout = go.Layout (\n",
    "title = 'Cause category', \n",
    "width = 700, \n",
    "margin=go.Margin(b=140, r=150)\n",
    ")\n",
    "\n",
    "fig = go.Figure(data=data, layout=layout)\n",
    "py.iplot(fig, filename='basic-bar')"
   ]
  },
  {
   "cell_type": "code",
   "execution_count": 14,
   "metadata": {},
   "outputs": [
    {
     "data": {
      "text/plain": [
       "array(['PIPELINE/EQUIPMENT OVERPRESSURED',\n",
       "       'PUMP OR PUMP-RELATED EQUIPMENT',\n",
       "       'DEFECTIVE OR LOOSE TUBING/FITTING', 'TEMPERATURE',\n",
       "       'THIRD PARTY EXCAVATION DAMAGE', 'MANUFACTURING-RELATED',\n",
       "       'ENVIRONMENTAL CRACKING-RELATED', 'OTHER EQUIPMENT FAILURE',\n",
       "       'MISCELLANEOUS',\n",
       "       'CONSTRUCTION, INSTALLATION OR FABRICATION-RELATED', 'INTERNAL',\n",
       "       'INCORRECT INSTALLATION', 'OVERFILL/OVERFLOW OF TANK/VESSEL/SUMP',\n",
       "       'VEHICLE NOT ENGAGED IN EXCAVATION',\n",
       "       'THREADED CONNECTION/COUPLING FAILURE',\n",
       "       'NON-THREADED CONNECTION FAILURE', 'FAILURE OF EQUIPMENT BODY',\n",
       "       'EXTERNAL', 'INCORRECT VALVE POSITION',\n",
       "       'OTHER NATURAL FORCE DAMAGE',\n",
       "       'MALFUNCTION OF CONTROL/RELIEF EQUIPMENT',\n",
       "       'OTHER OUTSIDE FORCE DAMAGE', 'OTHER INCORRECT OPERATION',\n",
       "       'EARTH MOVEMENT', 'PREVIOUS DAMAGE DUE TO EXCAVATION',\n",
       "       'HEAVY RAINS/FLOODS',\n",
       "       'ELECTRICAL ARCING FROM OTHER EQUIPMENT/FACILITY', 'LIGHTNING',\n",
       "       'OPERATOR/CONTRACTOR EXCAVATION DAMAGE',\n",
       "       \"DAMAGE BY OPERATOR OR OPERATOR'S CONTRACTOR\",\n",
       "       'FIRE/EXPLOSION AS PRIMARY CAUSE', 'UNKNOWN',\n",
       "       'INCORRECT EQUIPMENT', 'HIGH WINDS',\n",
       "       'FISHING OR MARITIME ACTIVITY', 'INTENTIONAL DAMAGE',\n",
       "       'MARITIME EQUIPMENT OR VESSEL ADRIFT',\n",
       "       'PREVIOUS MECHANICAL DAMAGE'], dtype=object)"
      ]
     },
     "execution_count": 14,
     "metadata": {},
     "output_type": "execute_result"
    }
   ],
   "source": [
    "df['Cause Subcategory'].unique()"
   ]
  },
  {
   "cell_type": "code",
   "execution_count": 22,
   "metadata": {},
   "outputs": [
    {
     "data": {
      "application/vnd.plotly.v1+json": {
       "config": {
        "linkText": "Export to plot.ly",
        "plotlyServerURL": "https://plot.ly",
        "showLink": false
       },
       "data": [
        {
         "marker": {
          "color": [
           362,
           296,
           286,
           230,
           204,
           171,
           151,
           112,
           86,
           84,
           76,
           72,
           70,
           69,
           67,
           62,
           57,
           57,
           42,
           37,
           28,
           25,
           21,
           20,
           19,
           16,
           15,
           12,
           11,
           10,
           8,
           8,
           4,
           3,
           1,
           1,
           1,
           1
          ],
          "colorscale": [
           [
            0,
            "#440154"
           ],
           [
            0.1111111111111111,
            "#482878"
           ],
           [
            0.2222222222222222,
            "#3e4989"
           ],
           [
            0.3333333333333333,
            "#31688e"
           ],
           [
            0.4444444444444444,
            "#26828e"
           ],
           [
            0.5555555555555556,
            "#1f9e89"
           ],
           [
            0.6666666666666666,
            "#35b779"
           ],
           [
            0.7777777777777778,
            "#6ece58"
           ],
           [
            0.8888888888888888,
            "#b5de2b"
           ],
           [
            1,
            "#fde725"
           ]
          ],
          "reversescale": true
         },
         "name": "Causes Subcategory Count",
         "type": "bar",
         "x": [
          "INTERNAL",
          "PUMP OR PUMP-RELATED EQUIPMENT",
          "NON-THREADED CONNECTION FAILURE",
          "EXTERNAL",
          "OTHER EQUIPMENT FAILURE",
          "MALFUNCTION OF CONTROL/RELIEF EQUIPMENT",
          "THREADED CONNECTION/COUPLING FAILURE",
          "CONSTRUCTION, INSTALLATION OR FABRICATION-RELATED",
          "OTHER INCORRECT OPERATION",
          "INCORRECT VALVE POSITION",
          "MISCELLANEOUS",
          "INCORRECT INSTALLATION",
          "MANUFACTURING-RELATED",
          "OVERFILL/OVERFLOW OF TANK/VESSEL/SUMP",
          "FAILURE OF EQUIPMENT BODY",
          "DEFECTIVE OR LOOSE TUBING/FITTING",
          "THIRD PARTY EXCAVATION DAMAGE",
          "TEMPERATURE",
          "UNKNOWN",
          "PIPELINE/EQUIPMENT OVERPRESSURED",
          "OPERATOR/CONTRACTOR EXCAVATION DAMAGE",
          "HEAVY RAINS/FLOODS",
          "VEHICLE NOT ENGAGED IN EXCAVATION",
          "DAMAGE BY OPERATOR OR OPERATOR'S CONTRACTOR",
          "LIGHTNING",
          "ENVIRONMENTAL CRACKING-RELATED",
          "OTHER OUTSIDE FORCE DAMAGE",
          "PREVIOUS DAMAGE DUE TO EXCAVATION",
          "ELECTRICAL ARCING FROM OTHER EQUIPMENT/FACILITY",
          "INCORRECT EQUIPMENT",
          "OTHER NATURAL FORCE DAMAGE",
          "EARTH MOVEMENT",
          "FIRE/EXPLOSION AS PRIMARY CAUSE",
          "INTENTIONAL DAMAGE",
          "HIGH WINDS",
          "FISHING OR MARITIME ACTIVITY",
          "MARITIME EQUIPMENT OR VESSEL ADRIFT",
          "PREVIOUS MECHANICAL DAMAGE"
         ],
         "y": [
          362,
          296,
          286,
          230,
          204,
          171,
          151,
          112,
          86,
          84,
          76,
          72,
          70,
          69,
          67,
          62,
          57,
          57,
          42,
          37,
          28,
          25,
          21,
          20,
          19,
          16,
          15,
          12,
          11,
          10,
          8,
          8,
          4,
          3,
          1,
          1,
          1,
          1
         ]
        }
       ],
       "layout": {
        "height": 800,
        "margin": {
         "b": 100,
         "r": 80
        },
        "template": {
         "data": {
          "bar": [
           {
            "error_x": {
             "color": "#2a3f5f"
            },
            "error_y": {
             "color": "#2a3f5f"
            },
            "marker": {
             "line": {
              "color": "#E5ECF6",
              "width": 0.5
             },
             "pattern": {
              "fillmode": "overlay",
              "size": 10,
              "solidity": 0.2
             }
            },
            "type": "bar"
           }
          ],
          "barpolar": [
           {
            "marker": {
             "line": {
              "color": "#E5ECF6",
              "width": 0.5
             },
             "pattern": {
              "fillmode": "overlay",
              "size": 10,
              "solidity": 0.2
             }
            },
            "type": "barpolar"
           }
          ],
          "carpet": [
           {
            "aaxis": {
             "endlinecolor": "#2a3f5f",
             "gridcolor": "white",
             "linecolor": "white",
             "minorgridcolor": "white",
             "startlinecolor": "#2a3f5f"
            },
            "baxis": {
             "endlinecolor": "#2a3f5f",
             "gridcolor": "white",
             "linecolor": "white",
             "minorgridcolor": "white",
             "startlinecolor": "#2a3f5f"
            },
            "type": "carpet"
           }
          ],
          "choropleth": [
           {
            "colorbar": {
             "outlinewidth": 0,
             "ticks": ""
            },
            "type": "choropleth"
           }
          ],
          "contour": [
           {
            "colorbar": {
             "outlinewidth": 0,
             "ticks": ""
            },
            "colorscale": [
             [
              0,
              "#0d0887"
             ],
             [
              0.1111111111111111,
              "#46039f"
             ],
             [
              0.2222222222222222,
              "#7201a8"
             ],
             [
              0.3333333333333333,
              "#9c179e"
             ],
             [
              0.4444444444444444,
              "#bd3786"
             ],
             [
              0.5555555555555556,
              "#d8576b"
             ],
             [
              0.6666666666666666,
              "#ed7953"
             ],
             [
              0.7777777777777778,
              "#fb9f3a"
             ],
             [
              0.8888888888888888,
              "#fdca26"
             ],
             [
              1,
              "#f0f921"
             ]
            ],
            "type": "contour"
           }
          ],
          "contourcarpet": [
           {
            "colorbar": {
             "outlinewidth": 0,
             "ticks": ""
            },
            "type": "contourcarpet"
           }
          ],
          "heatmap": [
           {
            "colorbar": {
             "outlinewidth": 0,
             "ticks": ""
            },
            "colorscale": [
             [
              0,
              "#0d0887"
             ],
             [
              0.1111111111111111,
              "#46039f"
             ],
             [
              0.2222222222222222,
              "#7201a8"
             ],
             [
              0.3333333333333333,
              "#9c179e"
             ],
             [
              0.4444444444444444,
              "#bd3786"
             ],
             [
              0.5555555555555556,
              "#d8576b"
             ],
             [
              0.6666666666666666,
              "#ed7953"
             ],
             [
              0.7777777777777778,
              "#fb9f3a"
             ],
             [
              0.8888888888888888,
              "#fdca26"
             ],
             [
              1,
              "#f0f921"
             ]
            ],
            "type": "heatmap"
           }
          ],
          "heatmapgl": [
           {
            "colorbar": {
             "outlinewidth": 0,
             "ticks": ""
            },
            "colorscale": [
             [
              0,
              "#0d0887"
             ],
             [
              0.1111111111111111,
              "#46039f"
             ],
             [
              0.2222222222222222,
              "#7201a8"
             ],
             [
              0.3333333333333333,
              "#9c179e"
             ],
             [
              0.4444444444444444,
              "#bd3786"
             ],
             [
              0.5555555555555556,
              "#d8576b"
             ],
             [
              0.6666666666666666,
              "#ed7953"
             ],
             [
              0.7777777777777778,
              "#fb9f3a"
             ],
             [
              0.8888888888888888,
              "#fdca26"
             ],
             [
              1,
              "#f0f921"
             ]
            ],
            "type": "heatmapgl"
           }
          ],
          "histogram": [
           {
            "marker": {
             "pattern": {
              "fillmode": "overlay",
              "size": 10,
              "solidity": 0.2
             }
            },
            "type": "histogram"
           }
          ],
          "histogram2d": [
           {
            "colorbar": {
             "outlinewidth": 0,
             "ticks": ""
            },
            "colorscale": [
             [
              0,
              "#0d0887"
             ],
             [
              0.1111111111111111,
              "#46039f"
             ],
             [
              0.2222222222222222,
              "#7201a8"
             ],
             [
              0.3333333333333333,
              "#9c179e"
             ],
             [
              0.4444444444444444,
              "#bd3786"
             ],
             [
              0.5555555555555556,
              "#d8576b"
             ],
             [
              0.6666666666666666,
              "#ed7953"
             ],
             [
              0.7777777777777778,
              "#fb9f3a"
             ],
             [
              0.8888888888888888,
              "#fdca26"
             ],
             [
              1,
              "#f0f921"
             ]
            ],
            "type": "histogram2d"
           }
          ],
          "histogram2dcontour": [
           {
            "colorbar": {
             "outlinewidth": 0,
             "ticks": ""
            },
            "colorscale": [
             [
              0,
              "#0d0887"
             ],
             [
              0.1111111111111111,
              "#46039f"
             ],
             [
              0.2222222222222222,
              "#7201a8"
             ],
             [
              0.3333333333333333,
              "#9c179e"
             ],
             [
              0.4444444444444444,
              "#bd3786"
             ],
             [
              0.5555555555555556,
              "#d8576b"
             ],
             [
              0.6666666666666666,
              "#ed7953"
             ],
             [
              0.7777777777777778,
              "#fb9f3a"
             ],
             [
              0.8888888888888888,
              "#fdca26"
             ],
             [
              1,
              "#f0f921"
             ]
            ],
            "type": "histogram2dcontour"
           }
          ],
          "mesh3d": [
           {
            "colorbar": {
             "outlinewidth": 0,
             "ticks": ""
            },
            "type": "mesh3d"
           }
          ],
          "parcoords": [
           {
            "line": {
             "colorbar": {
              "outlinewidth": 0,
              "ticks": ""
             }
            },
            "type": "parcoords"
           }
          ],
          "pie": [
           {
            "automargin": true,
            "type": "pie"
           }
          ],
          "scatter": [
           {
            "marker": {
             "colorbar": {
              "outlinewidth": 0,
              "ticks": ""
             }
            },
            "type": "scatter"
           }
          ],
          "scatter3d": [
           {
            "line": {
             "colorbar": {
              "outlinewidth": 0,
              "ticks": ""
             }
            },
            "marker": {
             "colorbar": {
              "outlinewidth": 0,
              "ticks": ""
             }
            },
            "type": "scatter3d"
           }
          ],
          "scattercarpet": [
           {
            "marker": {
             "colorbar": {
              "outlinewidth": 0,
              "ticks": ""
             }
            },
            "type": "scattercarpet"
           }
          ],
          "scattergeo": [
           {
            "marker": {
             "colorbar": {
              "outlinewidth": 0,
              "ticks": ""
             }
            },
            "type": "scattergeo"
           }
          ],
          "scattergl": [
           {
            "marker": {
             "colorbar": {
              "outlinewidth": 0,
              "ticks": ""
             }
            },
            "type": "scattergl"
           }
          ],
          "scattermapbox": [
           {
            "marker": {
             "colorbar": {
              "outlinewidth": 0,
              "ticks": ""
             }
            },
            "type": "scattermapbox"
           }
          ],
          "scatterpolar": [
           {
            "marker": {
             "colorbar": {
              "outlinewidth": 0,
              "ticks": ""
             }
            },
            "type": "scatterpolar"
           }
          ],
          "scatterpolargl": [
           {
            "marker": {
             "colorbar": {
              "outlinewidth": 0,
              "ticks": ""
             }
            },
            "type": "scatterpolargl"
           }
          ],
          "scatterternary": [
           {
            "marker": {
             "colorbar": {
              "outlinewidth": 0,
              "ticks": ""
             }
            },
            "type": "scatterternary"
           }
          ],
          "surface": [
           {
            "colorbar": {
             "outlinewidth": 0,
             "ticks": ""
            },
            "colorscale": [
             [
              0,
              "#0d0887"
             ],
             [
              0.1111111111111111,
              "#46039f"
             ],
             [
              0.2222222222222222,
              "#7201a8"
             ],
             [
              0.3333333333333333,
              "#9c179e"
             ],
             [
              0.4444444444444444,
              "#bd3786"
             ],
             [
              0.5555555555555556,
              "#d8576b"
             ],
             [
              0.6666666666666666,
              "#ed7953"
             ],
             [
              0.7777777777777778,
              "#fb9f3a"
             ],
             [
              0.8888888888888888,
              "#fdca26"
             ],
             [
              1,
              "#f0f921"
             ]
            ],
            "type": "surface"
           }
          ],
          "table": [
           {
            "cells": {
             "fill": {
              "color": "#EBF0F8"
             },
             "line": {
              "color": "white"
             }
            },
            "header": {
             "fill": {
              "color": "#C8D4E3"
             },
             "line": {
              "color": "white"
             }
            },
            "type": "table"
           }
          ]
         },
         "layout": {
          "annotationdefaults": {
           "arrowcolor": "#2a3f5f",
           "arrowhead": 0,
           "arrowwidth": 1
          },
          "autotypenumbers": "strict",
          "coloraxis": {
           "colorbar": {
            "outlinewidth": 0,
            "ticks": ""
           }
          },
          "colorscale": {
           "diverging": [
            [
             0,
             "#8e0152"
            ],
            [
             0.1,
             "#c51b7d"
            ],
            [
             0.2,
             "#de77ae"
            ],
            [
             0.3,
             "#f1b6da"
            ],
            [
             0.4,
             "#fde0ef"
            ],
            [
             0.5,
             "#f7f7f7"
            ],
            [
             0.6,
             "#e6f5d0"
            ],
            [
             0.7,
             "#b8e186"
            ],
            [
             0.8,
             "#7fbc41"
            ],
            [
             0.9,
             "#4d9221"
            ],
            [
             1,
             "#276419"
            ]
           ],
           "sequential": [
            [
             0,
             "#0d0887"
            ],
            [
             0.1111111111111111,
             "#46039f"
            ],
            [
             0.2222222222222222,
             "#7201a8"
            ],
            [
             0.3333333333333333,
             "#9c179e"
            ],
            [
             0.4444444444444444,
             "#bd3786"
            ],
            [
             0.5555555555555556,
             "#d8576b"
            ],
            [
             0.6666666666666666,
             "#ed7953"
            ],
            [
             0.7777777777777778,
             "#fb9f3a"
            ],
            [
             0.8888888888888888,
             "#fdca26"
            ],
            [
             1,
             "#f0f921"
            ]
           ],
           "sequentialminus": [
            [
             0,
             "#0d0887"
            ],
            [
             0.1111111111111111,
             "#46039f"
            ],
            [
             0.2222222222222222,
             "#7201a8"
            ],
            [
             0.3333333333333333,
             "#9c179e"
            ],
            [
             0.4444444444444444,
             "#bd3786"
            ],
            [
             0.5555555555555556,
             "#d8576b"
            ],
            [
             0.6666666666666666,
             "#ed7953"
            ],
            [
             0.7777777777777778,
             "#fb9f3a"
            ],
            [
             0.8888888888888888,
             "#fdca26"
            ],
            [
             1,
             "#f0f921"
            ]
           ]
          },
          "colorway": [
           "#636efa",
           "#EF553B",
           "#00cc96",
           "#ab63fa",
           "#FFA15A",
           "#19d3f3",
           "#FF6692",
           "#B6E880",
           "#FF97FF",
           "#FECB52"
          ],
          "font": {
           "color": "#2a3f5f"
          },
          "geo": {
           "bgcolor": "white",
           "lakecolor": "white",
           "landcolor": "#E5ECF6",
           "showlakes": true,
           "showland": true,
           "subunitcolor": "white"
          },
          "hoverlabel": {
           "align": "left"
          },
          "hovermode": "closest",
          "mapbox": {
           "style": "light"
          },
          "paper_bgcolor": "white",
          "plot_bgcolor": "#E5ECF6",
          "polar": {
           "angularaxis": {
            "gridcolor": "white",
            "linecolor": "white",
            "ticks": ""
           },
           "bgcolor": "#E5ECF6",
           "radialaxis": {
            "gridcolor": "white",
            "linecolor": "white",
            "ticks": ""
           }
          },
          "scene": {
           "xaxis": {
            "backgroundcolor": "#E5ECF6",
            "gridcolor": "white",
            "gridwidth": 2,
            "linecolor": "white",
            "showbackground": true,
            "ticks": "",
            "zerolinecolor": "white"
           },
           "yaxis": {
            "backgroundcolor": "#E5ECF6",
            "gridcolor": "white",
            "gridwidth": 2,
            "linecolor": "white",
            "showbackground": true,
            "ticks": "",
            "zerolinecolor": "white"
           },
           "zaxis": {
            "backgroundcolor": "#E5ECF6",
            "gridcolor": "white",
            "gridwidth": 2,
            "linecolor": "white",
            "showbackground": true,
            "ticks": "",
            "zerolinecolor": "white"
           }
          },
          "shapedefaults": {
           "line": {
            "color": "#2a3f5f"
           }
          },
          "ternary": {
           "aaxis": {
            "gridcolor": "white",
            "linecolor": "white",
            "ticks": ""
           },
           "baxis": {
            "gridcolor": "white",
            "linecolor": "white",
            "ticks": ""
           },
           "bgcolor": "#E5ECF6",
           "caxis": {
            "gridcolor": "white",
            "linecolor": "white",
            "ticks": ""
           }
          },
          "title": {
           "x": 0.05
          },
          "xaxis": {
           "automargin": true,
           "gridcolor": "white",
           "linecolor": "white",
           "ticks": "",
           "title": {
            "standoff": 15
           },
           "zerolinecolor": "white",
           "zerolinewidth": 2
          },
          "yaxis": {
           "automargin": true,
           "gridcolor": "white",
           "linecolor": "white",
           "ticks": "",
           "title": {
            "standoff": 15
           },
           "zerolinecolor": "white",
           "zerolinewidth": 2
          }
         }
        },
        "title": {
         "text": "Cause Subcategory"
        },
        "width": 800
       }
      }
     },
     "metadata": {},
     "output_type": "display_data"
    }
   ],
   "source": [
    "causes_sub = df['Cause Subcategory'].value_counts()\n",
    "causes_sub = go.Bar(\n",
    "   y = causes_sub.values, \n",
    "   x = causes_sub.index.values, \n",
    "   name = 'Causes Subcategory Count', \n",
    "     marker=dict(\n",
    "        color=causes_sub.values,\n",
    "        colorscale = 'Viridis',\n",
    "        reversescale = True\n",
    "        )    \n",
    ")\n",
    "data = [causes_sub]\n",
    "\n",
    "layout = go.Layout (\n",
    "title = 'Cause Subcategory', \n",
    "height = 800,\n",
    "width = 800, \n",
    "margin=go.Margin(b=100, r=80)\n",
    ")\n",
    "\n",
    "fig = go.Figure(data=data, layout=layout)\n",
    "py.iplot(fig, filename='basic-bar')"
   ]
  },
  {
   "cell_type": "code",
   "execution_count": 38,
   "metadata": {},
   "outputs": [
    {
     "data": {
      "text/plain": [
       "443"
      ]
     },
     "execution_count": 38,
     "metadata": {},
     "output_type": "execute_result"
    }
   ],
   "source": [
    "df['Net Loss (Barrels)'].nunique()"
   ]
  },
  {
   "cell_type": "code",
   "execution_count": 43,
   "metadata": {},
   "outputs": [
    {
     "data": {
      "text/plain": [
       "2279"
      ]
     },
     "execution_count": 43,
     "metadata": {},
     "output_type": "execute_result"
    }
   ],
   "source": [
    "df['All Costs'].nunique()"
   ]
  },
  {
   "cell_type": "code",
   "execution_count": 41,
   "metadata": {},
   "outputs": [
    {
     "data": {
      "text/plain": [
       "Text(0.005, 100000000.0, 'All Costs')"
      ]
     },
     "execution_count": 41,
     "metadata": {},
     "output_type": "execute_result"
    },
    {
     "data": {
      "image/png": "[encoded data removed]",
      "text/plain": [
       "<Figure size 720x432 with 1 Axes>"
      ]
     },
     "metadata": {
      "needs_background": "light"
     },
     "output_type": "display_data"
    }
   ],
   "source": [
    "fig, ax = plt.subplots(figsize=(10,6))\n",
    "ax.scatter(df['Net Loss (Barrels)'].values,\n",
    "              df['All Costs'].values, \n",
    "              label=\"All\", color='darkred')\n",
    "ax.set_yscale('log')\n",
    "ax.set_ylim(0.1,4e9)\n",
    "ax.set_xscale('log')\n",
    "ax.set_xlim(0.001,100000)\n",
    "ax.set_ylabel('Cost', fontsize=15)\n",
    "ax.text(0.005, 1e8, \"All Costs\", fontsize=18, color='darkred')\n"
   ]
  },
  {
   "cell_type": "code",
   "execution_count": 44,
   "metadata": {},
   "outputs": [
    {
     "data": {
      "text/plain": [
       "628"
      ]
     },
     "execution_count": 44,
     "metadata": {},
     "output_type": "execute_result"
    }
   ],
   "source": [
    "df['Environmental Remediation Costs'].nunique()"
   ]
  },
  {
   "cell_type": "code",
   "execution_count": 42,
   "metadata": {},
   "outputs": [
    {
     "data": {
      "text/plain": [
       "Text(0.005, 100000000.0, 'Environmental Costs')"
      ]
     },
     "execution_count": 42,
     "metadata": {},
     "output_type": "execute_result"
    },
    {
     "data": {
      "image/png": "[encoded data removed]",
      "text/plain": [
       "<Figure size 720x432 with 1 Axes>"
      ]
     },
     "metadata": {
      "needs_background": "light"
     },
     "output_type": "display_data"
    }
   ],
   "source": [
    "fig, ax = plt.subplots(figsize=(10,6))\n",
    "ax.scatter(df['Net Loss (Barrels)'].values,\n",
    "              df['Environmental Remediation Costs'].values, \n",
    "              label=\"All\", color='darkblue')\n",
    "ax.set_yscale('log')\n",
    "ax.set_ylim(0.1,4e9)\n",
    "ax.set_xscale('log')\n",
    "ax.set_xlim(0.001,100000)\n",
    "ax.set_ylabel('Cost', fontsize=15)\n",
    "ax.text(0.005, 1e8, \"Environmental Costs\", fontsize=18, color='darkblue')\n"
   ]
  },
  {
   "cell_type": "code",
   "execution_count": 45,
   "metadata": {},
   "outputs": [
    {
     "data": {
      "text/plain": [
       "712"
      ]
     },
     "execution_count": 45,
     "metadata": {},
     "output_type": "execute_result"
    }
   ],
   "source": [
    "df['Emergency Response Costs'].nunique()"
   ]
  },
  {
   "cell_type": "code",
   "execution_count": 46,
   "metadata": {},
   "outputs": [
    {
     "data": {
      "text/plain": [
       "Text(0.005, 100000000.0, 'Emergency Costs')"
      ]
     },
     "execution_count": 46,
     "metadata": {},
     "output_type": "execute_result"
    },
    {
     "data": {
      "image/png": "[encoded data removed]",
      "text/plain": [
       "<Figure size 720x432 with 1 Axes>"
      ]
     },
     "metadata": {
      "needs_background": "light"
     },
     "output_type": "display_data"
    }
   ],
   "source": [
    "fig, ax = plt.subplots(figsize=(10,6))\n",
    "ax.scatter(df['Net Loss (Barrels)'].values,\n",
    "              df['Emergency Response Costs'].values, \n",
    "              label=\"All\", color='darkgreen')\n",
    "ax.set_yscale('log')\n",
    "ax.set_ylim(0.1,4e9)\n",
    "ax.set_xscale('log')\n",
    "ax.set_xlim(0.001,100000)\n",
    "ax.set_ylabel('Cost', fontsize=15)\n",
    "ax.set_xlabel('Net Loss (Barrels)', fontsize=13)\n",
    "ax.text(0.005, 1e8, \"Emergency Costs\", fontsize=18, color='darkgreen')"
   ]
  },
  {
   "cell_type": "code",
   "execution_count": null,
   "metadata": {},
   "outputs": [],
   "source": []
  }
 ],
 "metadata": {
  "interpreter": {
   "hash": "d62006d1f3422635846181a997a61e8ec3049f797e5d7dfe0cd1bb84092b7c19"
  },
  "kernelspec": {
   "display_name": "Python 3.9.7 64-bit",
   "language": "python",
   "name": "python3"
  },
  "language_info": {
   "codemirror_mode": {
    "name": "ipython",
    "version": 3
   },
   "file_extension": ".py",
   "mimetype": "text/x-python",
   "name": "python",
   "nbconvert_exporter": "python",
   "pygments_lexer": "ipython3",
   "version": "3.9.7"
  },
  "orig_nbformat": 4
 },
 "nbformat": 4,
 "nbformat_minor": 2
}
